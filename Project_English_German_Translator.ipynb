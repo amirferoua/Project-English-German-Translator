{
  "nbformat": 4,
  "nbformat_minor": 0,
  "metadata": {
    "colab": {
      "name": "Project: English-German Translator.ipynb",
      "provenance": [],
      "collapsed_sections": [
        "J7hBRI253X1F",
        "x_sT7Qj-3oKC",
        "uGMbjFB-3oYl",
        "jp-vbpP53okz",
        "tpbqoXsq3pYa",
        "NWPyZBY24JfZ",
        "f7XQM8GLr2wz",
        "QZGAAItpl6P_",
        "NUnqQpxI4rVG",
        "nHlbOD-zbTNE",
        "hWTYp_EtbaHt",
        "wuX-DDzLv05F",
        "bt7vcI19bhOq",
        "ViswUi-K4reL",
        "YPao7CP84M4N",
        "IItsFbwBdN8T",
        "sQWKwbZCdCdJ",
        "QSBpeCFldUR5",
        "thbEBwxNe9zR",
        "kDKGVE3aKI5g",
        "wN2L9wO24Nyy",
        "-kdbKHl9QJUq",
        "JvyYjoXb4N1v",
        "YMUERDIJNlvH",
        "8QXwdA2OY6UG",
        "yi12Gl_1Y8pd",
        "4SLDrwAVZCeG",
        "RkOZBpF5cLaZ"
      ],
      "toc_visible": true
    },
    "kernelspec": {
      "name": "python3",
      "display_name": "Python 3"
    },
    "accelerator": "GPU"
  },
  "cells": [
    {
      "cell_type": "markdown",
      "metadata": {
        "id": "VAC03uBo2ofG"
      },
      "source": [
        "# Project: English-German Translator"
      ]
    },
    {
      "cell_type": "markdown",
      "metadata": {
        "id": "hLEuFoD55_Jy"
      },
      "source": [
        "In this notebook, we will build an English to German neural machine traslator using a Encoder-Decoder architecture. In order to improve its performance on long and complex sequences, we will add an attention layer to the model. \n",
        "\n",
        "This notebook is part of the post [Neural Machine Translation with Attention – Project: English-German Translator](https://mathchine-learning.blogspot.com/2020/09/neural-machine-translation-with.html). I recommend reading the post before going any further in this notebook."
      ]
    },
    {
      "cell_type": "markdown",
      "metadata": {
        "id": "OmYQs8mT2uZ5"
      },
      "source": [
        "## Table of contents\n",
        "- [1.  Data in machine translation](#1)\n",
        "    - [1.1  Importing the libraries and loading the data](#1.1)\n",
        "    - [1.2  Tokenization and detokenization](#1.2)\n",
        "    - [1.3  Bucketing](#1.3)\n",
        "    - [1.4  Exploring the data](#1.4)\n",
        "- [2.  Neural Machine Translation with Attention](#2)\n",
        "    - [2.1  Encoder-Decoder architecture](#2.1)\n",
        "    - [2.2  Attention mechanism](#2.2)\n",
        "    - [2.3  Main parts of our model](#2.3)\n",
        "        - [2.3.1  Encoder](#2.3.1)\n",
        "        - [2.3.1  Pre-attention Decoder](#2.3.2)\n",
        "        - [2.3.1  Decoder](#2.3.3)\n",
        "        - [2.3.1  Preparation function for the attention layer](#2.3.4)\n",
        "    - [2.4  The model implementation](#2.4)\n",
        "- [3.  Training](#3)\n",
        "    - [3.1  Train task](#3.1)\n",
        "    - [3.2  Evaluation task](#3.2)\n",
        "    - [3.3  Loop](#3.3)\n",
        "    - [3.4  Start training](#3.4)\n",
        "    - [3.5  Load pretrained weights](#3.5)\n",
        "- [4.  Testing](#4)\n",
        "    - [4.1  Decoding](#4.1)\n",
        "    - [4.2  Greedy decoding](#4.2)\n",
        "    - [4.3  Minimum Bayes-risk decoding](#4.3)"
      ]
    },
    {
      "cell_type": "markdown",
      "metadata": {
        "id": "J7hBRI253X1F"
      },
      "source": [
        "<a name=\"1\"></a>\n",
        "# 1. Data in machine translation"
      ]
    },
    {
      "cell_type": "markdown",
      "metadata": {
        "id": "x_sT7Qj-3oKC"
      },
      "source": [
        "<a name=\"1.1\"></a>\n",
        "## 1.1 Importing the libraries and loading the data"
      ]
    },
    {
      "cell_type": "markdown",
      "metadata": {
        "id": "T8R1P_X8-7Ah"
      },
      "source": [
        "First, we will import the packages we will need in this project. Since there is already a lot of content on the web using pytorch and tensorflow, we will use Trax, an end-to-end library for deep learning that focuses on clear code and speed, actively used and maintained by the Google Brain team, as I belive in the near future it will become the meta library for deep learning. However, you can implement the same model using other frameworks like pyTorch or Tensorflow, as both provide the tools required for this task. "
      ]
    },
    {
      "cell_type": "code",
      "metadata": {
        "id": "Oh0f2U8sejKm",
        "outputId": "f63cc639-1192-4847-f1a3-f2c074fc1b9a",
        "colab": {
          "base_uri": "https://localhost:8080/",
          "height": 1000
        }
      },
      "source": [
        "# Install trax if needed: \n",
        "!pip install trax"
      ],
      "execution_count": null,
      "outputs": [
        {
          "output_type": "stream",
          "text": [
            "Requirement already satisfied: trax in /usr/local/lib/python3.6/dist-packages (1.3.6)\n",
            "Requirement already satisfied: jaxlib in /usr/local/lib/python3.6/dist-packages (from trax) (0.1.55)\n",
            "Requirement already satisfied: six in /usr/local/lib/python3.6/dist-packages (from trax) (1.15.0)\n",
            "Requirement already satisfied: funcsigs in /usr/local/lib/python3.6/dist-packages (from trax) (1.0.2)\n",
            "Requirement already satisfied: t5 in /usr/local/lib/python3.6/dist-packages (from trax) (0.7.0)\n",
            "Requirement already satisfied: gin-config in /usr/local/lib/python3.6/dist-packages (from trax) (0.3.0)\n",
            "Requirement already satisfied: gym in /usr/local/lib/python3.6/dist-packages (from trax) (0.17.2)\n",
            "Requirement already satisfied: scipy in /usr/local/lib/python3.6/dist-packages (from trax) (1.4.1)\n",
            "Requirement already satisfied: tensorflow-datasets in /usr/local/lib/python3.6/dist-packages (from trax) (2.1.0)\n",
            "Requirement already satisfied: absl-py in /usr/local/lib/python3.6/dist-packages (from trax) (0.10.0)\n",
            "Requirement already satisfied: tensorflow-text in /usr/local/lib/python3.6/dist-packages (from trax) (2.3.0)\n",
            "Requirement already satisfied: jax in /usr/local/lib/python3.6/dist-packages (from trax) (0.2.0)\n",
            "Requirement already satisfied: numpy in /usr/local/lib/python3.6/dist-packages (from trax) (1.18.5)\n",
            "Requirement already satisfied: sentencepiece in /usr/local/lib/python3.6/dist-packages (from t5->trax) (0.1.94)\n",
            "Requirement already satisfied: sacrebleu in /usr/local/lib/python3.6/dist-packages (from t5->trax) (1.4.14)\n",
            "Requirement already satisfied: nltk in /usr/local/lib/python3.6/dist-packages (from t5->trax) (3.2.5)\n",
            "Requirement already satisfied: rouge-score in /usr/local/lib/python3.6/dist-packages (from t5->trax) (0.0.4)\n",
            "Requirement already satisfied: tfds-nightly in /usr/local/lib/python3.6/dist-packages (from t5->trax) (4.0.1.dev202010230107)\n",
            "Requirement already satisfied: mesh-tensorflow[transformer]>=0.1.13 in /usr/local/lib/python3.6/dist-packages (from t5->trax) (0.1.17)\n",
            "Requirement already satisfied: pandas in /usr/local/lib/python3.6/dist-packages (from t5->trax) (1.1.2)\n",
            "Requirement already satisfied: torch in /usr/local/lib/python3.6/dist-packages (from t5->trax) (1.6.0+cu101)\n",
            "Requirement already satisfied: scikit-learn in /usr/local/lib/python3.6/dist-packages (from t5->trax) (0.22.2.post1)\n",
            "Requirement already satisfied: transformers>=2.7.0 in /usr/local/lib/python3.6/dist-packages (from t5->trax) (3.4.0)\n",
            "Requirement already satisfied: babel in /usr/local/lib/python3.6/dist-packages (from t5->trax) (2.8.0)\n",
            "Requirement already satisfied: cloudpickle<1.4.0,>=1.2.0 in /usr/local/lib/python3.6/dist-packages (from gym->trax) (1.3.0)\n",
            "Requirement already satisfied: pyglet<=1.5.0,>=1.4.0 in /usr/local/lib/python3.6/dist-packages (from gym->trax) (1.5.0)\n",
            "Requirement already satisfied: requests>=2.19.0 in /usr/local/lib/python3.6/dist-packages (from tensorflow-datasets->trax) (2.23.0)\n",
            "Requirement already satisfied: attrs>=18.1.0 in /usr/local/lib/python3.6/dist-packages (from tensorflow-datasets->trax) (20.2.0)\n",
            "Requirement already satisfied: promise in /usr/local/lib/python3.6/dist-packages (from tensorflow-datasets->trax) (2.3)\n",
            "Requirement already satisfied: tensorflow-metadata in /usr/local/lib/python3.6/dist-packages (from tensorflow-datasets->trax) (0.24.0)\n",
            "Requirement already satisfied: termcolor in /usr/local/lib/python3.6/dist-packages (from tensorflow-datasets->trax) (1.1.0)\n",
            "Requirement already satisfied: future in /usr/local/lib/python3.6/dist-packages (from tensorflow-datasets->trax) (0.16.0)\n",
            "Requirement already satisfied: wrapt in /usr/local/lib/python3.6/dist-packages (from tensorflow-datasets->trax) (1.12.1)\n",
            "Requirement already satisfied: tqdm in /usr/local/lib/python3.6/dist-packages (from tensorflow-datasets->trax) (4.41.1)\n",
            "Requirement already satisfied: protobuf>=3.6.1 in /usr/local/lib/python3.6/dist-packages (from tensorflow-datasets->trax) (3.12.4)\n",
            "Requirement already satisfied: dill in /usr/local/lib/python3.6/dist-packages (from tensorflow-datasets->trax) (0.3.2)\n",
            "Requirement already satisfied: tensorflow<2.4,>=2.3.0 in /usr/local/lib/python3.6/dist-packages (from tensorflow-text->trax) (2.3.0)\n",
            "Requirement already satisfied: opt-einsum in /usr/local/lib/python3.6/dist-packages (from jax->trax) (3.3.0)\n",
            "Requirement already satisfied: portalocker in /usr/local/lib/python3.6/dist-packages (from sacrebleu->t5->trax) (2.0.0)\n",
            "Requirement already satisfied: typing-extensions; python_version < \"3.8\" in /usr/local/lib/python3.6/dist-packages (from tfds-nightly->t5->trax) (3.7.4.3)\n",
            "Requirement already satisfied: importlib-resources; python_version < \"3.9\" in /usr/local/lib/python3.6/dist-packages (from tfds-nightly->t5->trax) (3.1.1)\n",
            "Requirement already satisfied: dataclasses; python_version < \"3.7\" in /usr/local/lib/python3.6/dist-packages (from tfds-nightly->t5->trax) (0.7)\n",
            "Requirement already satisfied: python-dateutil>=2.7.3 in /usr/local/lib/python3.6/dist-packages (from pandas->t5->trax) (2.8.1)\n",
            "Requirement already satisfied: pytz>=2017.2 in /usr/local/lib/python3.6/dist-packages (from pandas->t5->trax) (2018.9)\n",
            "Requirement already satisfied: joblib>=0.11 in /usr/local/lib/python3.6/dist-packages (from scikit-learn->t5->trax) (0.16.0)\n",
            "Requirement already satisfied: regex!=2019.12.17 in /usr/local/lib/python3.6/dist-packages (from transformers>=2.7.0->t5->trax) (2019.12.20)\n",
            "Requirement already satisfied: sacremoses in /usr/local/lib/python3.6/dist-packages (from transformers>=2.7.0->t5->trax) (0.0.43)\n",
            "Requirement already satisfied: tokenizers==0.9.2 in /usr/local/lib/python3.6/dist-packages (from transformers>=2.7.0->t5->trax) (0.9.2)\n",
            "Requirement already satisfied: packaging in /usr/local/lib/python3.6/dist-packages (from transformers>=2.7.0->t5->trax) (20.4)\n",
            "Requirement already satisfied: filelock in /usr/local/lib/python3.6/dist-packages (from transformers>=2.7.0->t5->trax) (3.0.12)\n",
            "Requirement already satisfied: certifi>=2017.4.17 in /usr/local/lib/python3.6/dist-packages (from requests>=2.19.0->tensorflow-datasets->trax) (2020.6.20)\n",
            "Requirement already satisfied: chardet<4,>=3.0.2 in /usr/local/lib/python3.6/dist-packages (from requests>=2.19.0->tensorflow-datasets->trax) (3.0.4)\n",
            "Requirement already satisfied: idna<3,>=2.5 in /usr/local/lib/python3.6/dist-packages (from requests>=2.19.0->tensorflow-datasets->trax) (2.10)\n",
            "Requirement already satisfied: urllib3!=1.25.0,!=1.25.1,<1.26,>=1.21.1 in /usr/local/lib/python3.6/dist-packages (from requests>=2.19.0->tensorflow-datasets->trax) (1.24.3)\n",
            "Requirement already satisfied: googleapis-common-protos<2,>=1.52.0 in /usr/local/lib/python3.6/dist-packages (from tensorflow-metadata->tensorflow-datasets->trax) (1.52.0)\n",
            "Requirement already satisfied: setuptools in /usr/local/lib/python3.6/dist-packages (from protobuf>=3.6.1->tensorflow-datasets->trax) (50.3.0)\n",
            "Requirement already satisfied: tensorboard<3,>=2.3.0 in /usr/local/lib/python3.6/dist-packages (from tensorflow<2.4,>=2.3.0->tensorflow-text->trax) (2.3.0)\n",
            "Requirement already satisfied: h5py<2.11.0,>=2.10.0 in /usr/local/lib/python3.6/dist-packages (from tensorflow<2.4,>=2.3.0->tensorflow-text->trax) (2.10.0)\n",
            "Requirement already satisfied: gast==0.3.3 in /usr/local/lib/python3.6/dist-packages (from tensorflow<2.4,>=2.3.0->tensorflow-text->trax) (0.3.3)\n",
            "Requirement already satisfied: astunparse==1.6.3 in /usr/local/lib/python3.6/dist-packages (from tensorflow<2.4,>=2.3.0->tensorflow-text->trax) (1.6.3)\n",
            "Requirement already satisfied: google-pasta>=0.1.8 in /usr/local/lib/python3.6/dist-packages (from tensorflow<2.4,>=2.3.0->tensorflow-text->trax) (0.2.0)\n",
            "Requirement already satisfied: wheel>=0.26 in /usr/local/lib/python3.6/dist-packages (from tensorflow<2.4,>=2.3.0->tensorflow-text->trax) (0.35.1)\n",
            "Requirement already satisfied: grpcio>=1.8.6 in /usr/local/lib/python3.6/dist-packages (from tensorflow<2.4,>=2.3.0->tensorflow-text->trax) (1.32.0)\n",
            "Requirement already satisfied: keras-preprocessing<1.2,>=1.1.1 in /usr/local/lib/python3.6/dist-packages (from tensorflow<2.4,>=2.3.0->tensorflow-text->trax) (1.1.2)\n",
            "Requirement already satisfied: tensorflow-estimator<2.4.0,>=2.3.0 in /usr/local/lib/python3.6/dist-packages (from tensorflow<2.4,>=2.3.0->tensorflow-text->trax) (2.3.0)\n",
            "Requirement already satisfied: zipp>=0.4; python_version < \"3.8\" in /usr/local/lib/python3.6/dist-packages (from importlib-resources; python_version < \"3.9\"->tfds-nightly->t5->trax) (3.2.0)\n",
            "Requirement already satisfied: click in /usr/local/lib/python3.6/dist-packages (from sacremoses->transformers>=2.7.0->t5->trax) (7.1.2)\n",
            "Requirement already satisfied: pyparsing>=2.0.2 in /usr/local/lib/python3.6/dist-packages (from packaging->transformers>=2.7.0->t5->trax) (2.4.7)\n",
            "Requirement already satisfied: markdown>=2.6.8 in /usr/local/lib/python3.6/dist-packages (from tensorboard<3,>=2.3.0->tensorflow<2.4,>=2.3.0->tensorflow-text->trax) (3.2.2)\n",
            "Requirement already satisfied: tensorboard-plugin-wit>=1.6.0 in /usr/local/lib/python3.6/dist-packages (from tensorboard<3,>=2.3.0->tensorflow<2.4,>=2.3.0->tensorflow-text->trax) (1.7.0)\n",
            "Requirement already satisfied: werkzeug>=0.11.15 in /usr/local/lib/python3.6/dist-packages (from tensorboard<3,>=2.3.0->tensorflow<2.4,>=2.3.0->tensorflow-text->trax) (1.0.1)\n",
            "Requirement already satisfied: google-auth<2,>=1.6.3 in /usr/local/lib/python3.6/dist-packages (from tensorboard<3,>=2.3.0->tensorflow<2.4,>=2.3.0->tensorflow-text->trax) (1.17.2)\n",
            "Requirement already satisfied: google-auth-oauthlib<0.5,>=0.4.1 in /usr/local/lib/python3.6/dist-packages (from tensorboard<3,>=2.3.0->tensorflow<2.4,>=2.3.0->tensorflow-text->trax) (0.4.1)\n",
            "Requirement already satisfied: importlib-metadata; python_version < \"3.8\" in /usr/local/lib/python3.6/dist-packages (from markdown>=2.6.8->tensorboard<3,>=2.3.0->tensorflow<2.4,>=2.3.0->tensorflow-text->trax) (2.0.0)\n",
            "Requirement already satisfied: cachetools<5.0,>=2.0.0 in /usr/local/lib/python3.6/dist-packages (from google-auth<2,>=1.6.3->tensorboard<3,>=2.3.0->tensorflow<2.4,>=2.3.0->tensorflow-text->trax) (4.1.1)\n",
            "Requirement already satisfied: pyasn1-modules>=0.2.1 in /usr/local/lib/python3.6/dist-packages (from google-auth<2,>=1.6.3->tensorboard<3,>=2.3.0->tensorflow<2.4,>=2.3.0->tensorflow-text->trax) (0.2.8)\n",
            "Requirement already satisfied: rsa<5,>=3.1.4; python_version >= \"3\" in /usr/local/lib/python3.6/dist-packages (from google-auth<2,>=1.6.3->tensorboard<3,>=2.3.0->tensorflow<2.4,>=2.3.0->tensorflow-text->trax) (4.6)\n",
            "Requirement already satisfied: requests-oauthlib>=0.7.0 in /usr/local/lib/python3.6/dist-packages (from google-auth-oauthlib<0.5,>=0.4.1->tensorboard<3,>=2.3.0->tensorflow<2.4,>=2.3.0->tensorflow-text->trax) (1.3.0)\n",
            "Requirement already satisfied: pyasn1<0.5.0,>=0.4.6 in /usr/local/lib/python3.6/dist-packages (from pyasn1-modules>=0.2.1->google-auth<2,>=1.6.3->tensorboard<3,>=2.3.0->tensorflow<2.4,>=2.3.0->tensorflow-text->trax) (0.4.8)\n",
            "Requirement already satisfied: oauthlib>=3.0.0 in /usr/local/lib/python3.6/dist-packages (from requests-oauthlib>=0.7.0->google-auth-oauthlib<0.5,>=0.4.1->tensorboard<3,>=2.3.0->tensorflow<2.4,>=2.3.0->tensorflow-text->trax) (3.1.0)\n"
          ],
          "name": "stdout"
        }
      ]
    },
    {
      "cell_type": "code",
      "metadata": {
        "id": "6KS1wd15_oqt"
      },
      "source": [
        "import random\n",
        "import numpy as np\n",
        "import os\n",
        "\n",
        "import trax\n",
        "from trax import layers as tl\n",
        "from trax.fastmath import numpy as fastnp\n",
        "from trax.supervised import training\n",
        "\n",
        "from termcolor import colored"
      ],
      "execution_count": null,
      "outputs": []
    },
    {
      "cell_type": "markdown",
      "metadata": {
        "id": "4-G2K2r4_yij"
      },
      "source": [
        "Next, we will load the dataset we will use to train our model. We will use opus/medical, a small medical related corpus, since this projects purpose is learning. For a more realistic scenario, you can opt to get a larger corpus such as ParaCrawl, a large multi-lingual translation dataset created by the European Union. \n",
        "\n",
        "Both datasets are available via [Tensorflow Datasets](https://www.tensorflow.org/datasets). "
      ]
    },
    {
      "cell_type": "code",
      "metadata": {
        "id": "1Re801902gjD"
      },
      "source": [
        "# Get generator function for the training set\n",
        "# This will download the train dataset if it is not found in data_dir.\n",
        "train_stream_fn = trax.data.TFDS('opus/medical',\n",
        "                                 data_dir='./data/',\n",
        "                                 keys=('en', 'de'),\n",
        "                                 eval_holdout_size=0.01, # 1% for eval\n",
        "                                 train=True)\n",
        "\n",
        "# Get generator function for the eval set\n",
        "# This will download the eval dataset if it is not found in data_dir.\n",
        "eval_stream_fn = trax.data.TFDS('opus/medical',\n",
        "                                data_dir='./data/',\n",
        "                                keys=('en', 'de'),\n",
        "                                eval_holdout_size=0.01, # 1% for eval\n",
        "                                train=False)"
      ],
      "execution_count": null,
      "outputs": []
    },
    {
      "cell_type": "markdown",
      "metadata": {
        "id": "PAuI3CGpMOaf"
      },
      "source": [
        "Notice that TFDS returns a generator function, not a generator. This is because in Python, you cannot reset generators so you cannot go back to a previously yielded value and sometimes its good to be able to do that. Now, we will print a sample pair from our train and eval data. "
      ]
    },
    {
      "cell_type": "code",
      "metadata": {
        "id": "ALNMBJ1TM-hC",
        "outputId": "654abfda-c4a4-46cd-b68d-76a2db92d4eb",
        "colab": {
          "base_uri": "https://localhost:8080/",
          "height": 87
        }
      },
      "source": [
        "#First, we initialize our train data generator\n",
        "train_stream = train_stream_fn()\n",
        "#Then we print one value\n",
        "print(colored('train data (en, de) tuple:', 'red'), next(train_stream))\n",
        "print()\n",
        "\n",
        "#First, we initialize our test data generator\n",
        "eval_stream = eval_stream_fn()\n",
        "print(colored('eval data (en, de) tuple:', 'red'), next(eval_stream))"
      ],
      "execution_count": null,
      "outputs": [
        {
          "output_type": "stream",
          "text": [
            "\u001b[31mtrain data (en, de) tuple:\u001b[0m (b'During treatment with olanzapine, adolescents gained significantly more weight compared with adults.\\n', b'W\\xc3\\xa4hrend der Behandlung mit Olanzapin nahmen die Jugendlichen im Vergleich zu Erwachsenen signifikant mehr Gewicht zu.\\n')\n",
            "\n",
            "\u001b[31meval data (en, de) tuple:\u001b[0m (b'Lutropin alfa Subcutaneous use.\\n', b'Pulver zur Injektion Lutropin alfa Subkutane Anwendung\\n')\n"
          ],
          "name": "stdout"
        }
      ]
    },
    {
      "cell_type": "markdown",
      "metadata": {
        "id": "eM6muC2hNmqU"
      },
      "source": [
        "Now, we have to preprocess our sentences into a format that our model can read."
      ]
    },
    {
      "cell_type": "markdown",
      "metadata": {
        "id": "h4FVDpufiWVq"
      },
      "source": [
        "### Download required files"
      ]
    },
    {
      "cell_type": "markdown",
      "metadata": {
        "id": "5m-rGazJidwi"
      },
      "source": [
        "The following files are needed:\n",
        "- A English-German subwords vocabulary that we are going to use for tokenization (1mb -).\n",
        "- Pretrained weights for the network, obtained after several days of training (1gb +).\n",
        "\n",
        "Both files can be found in [this folder](https://drive.google.com/drive/folders/1fWznMxhX_ygXufbAggtehN4pv5E7MN_7?usp=sharing). Download and save everything in drive."
      ]
    },
    {
      "cell_type": "markdown",
      "metadata": {
        "id": "uGMbjFB-3oYl"
      },
      "source": [
        "<a name=\"1.2\"></a>\n",
        "## 1.2 Tokenization and detokenization"
      ]
    },
    {
      "cell_type": "markdown",
      "metadata": {
        "id": "C-yYQQFeNagT"
      },
      "source": [
        "First, we tokenize our corpus using subword representations. This is a common technique to avoid out-of-vocabulary words by allowing parts of words to be represented separately. For example, instead of having separate entries in your vocabulary for \"fear\", \"fearless\", \"fearsome\", \"some\", and \"less\", we simply store \"fear\", \"some\", and \"less\", then allow your tokenizer to combine these subwords when needed.\n"
      ]
    },
    {
      "cell_type": "code",
      "metadata": {
        "id": "NOt7vxaFR5VG"
      },
      "source": [
        "# Subwords vocabulary directory\n",
        "VOCAB_FILE = 'ende_32k.subword'\n",
        "VOCAB_DIR = '/content/drive/My Drive/Proyectos/Project: English-German Translator/'\n",
        "\n",
        "# Tokenize the dataset using subwords\n",
        "tokenized_train_stream = trax.data.Tokenize(vocab_file=VOCAB_FILE, vocab_dir=VOCAB_DIR)(train_stream)\n",
        "tokenized_eval_stream = trax.data.Tokenize(vocab_file=VOCAB_FILE, vocab_dir=VOCAB_DIR)(eval_stream)"
      ],
      "execution_count": null,
      "outputs": []
    },
    {
      "cell_type": "markdown",
      "metadata": {
        "id": "XQWmwUBoWK6S"
      },
      "source": [
        "Second, we append an end-of-sentence token to each sentence: we will assign a token (in this case 1) to mark the end of a sentence. This will be useful in inference so we will know that the model has completed the translation."
      ]
    },
    {
      "cell_type": "code",
      "metadata": {
        "id": "VJ-F3lBhWUno"
      },
      "source": [
        "# Integer assigned as end-of-sentence (EOS)\n",
        "EOS = 1\n",
        "\n",
        "# We create a generator function to append EOS to each sentence\n",
        "def append_eos(stream):\n",
        "    for (inputs, targets) in stream:\n",
        "        inputs_with_eos = list(inputs) + [EOS]\n",
        "        targets_with_eos = list(targets) + [EOS]\n",
        "        yield np.array(inputs_with_eos), np.array(targets_with_eos)\n",
        "\n",
        "# Generator functions with appended EoS at the end of each sentence\n",
        "tokenized_train_stream = append_eos(tokenized_train_stream)\n",
        "\n",
        "tokenized_eval_stream = append_eos(tokenized_eval_stream)"
      ],
      "execution_count": null,
      "outputs": []
    },
    {
      "cell_type": "markdown",
      "metadata": {
        "id": "Jh4PVELfW0CX"
      },
      "source": [
        "Third, we will force a limit on the number of tokens per sentence to ensure we will not run out of memory."
      ]
    },
    {
      "cell_type": "code",
      "metadata": {
        "id": "BLVOUxtCXCg9"
      },
      "source": [
        "# The length_keys=[0, 1] means we filter both English and German sentences to a\n",
        "# max of 256 tokens for training and 512 for test.\n",
        "filtered_train_stream = trax.data.FilterByLength(\n",
        "    max_length=256, length_keys=[0, 1])(tokenized_train_stream)\n",
        "filtered_eval_stream = trax.data.FilterByLength(\n",
        "    max_length=512, length_keys=[0, 1])(tokenized_eval_stream)"
      ],
      "execution_count": null,
      "outputs": []
    },
    {
      "cell_type": "markdown",
      "metadata": {
        "id": "irZC-QCKXSmT"
      },
      "source": [
        "Finally, let's display a input-target pair of tokenized sentences."
      ]
    },
    {
      "cell_type": "code",
      "metadata": {
        "id": "4L3TVzq8XRCG",
        "outputId": "42fc1f4f-448c-47cf-92e2-ad115da54a27",
        "colab": {
          "base_uri": "https://localhost:8080/",
          "height": 84
        }
      },
      "source": [
        "train_input, train_target = next(filtered_train_stream)\n",
        "print(colored(f'Single tokenized example input:', 'red' ), train_input)\n",
        "print(colored(f'Single tokenized example target:', 'red'), train_target)"
      ],
      "execution_count": null,
      "outputs": [
        {
          "output_type": "stream",
          "text": [
            "\u001b[31mSingle tokenized example input:\u001b[0m [14026  2801  3551 32955   135   150 14443 22008 21980   332 30650  4729\n",
            "   992     1]\n",
            "\u001b[31mSingle tokenized example target:\u001b[0m [14026  2801  3551 32955   135   150 14443 22008 21980   332 30650  4729\n",
            "   992     1]\n"
          ],
          "name": "stdout"
        }
      ]
    },
    {
      "cell_type": "markdown",
      "metadata": {
        "id": "1LT9erJBXyOQ"
      },
      "source": [
        "### Tokenize and Detokenize functions\n",
        "\n",
        "Given any data set, we have to be able to map words to their indices, and indices to their words. Thats what the following helper functions do.\n",
        "\n",
        "*   tokenize(): converts a text sentence to its corresponding token list (i.e. list of indices). Also converts words to subwords (parts of words).\n",
        "*   detokenize(): converts a token list to its corresponding sentence (i.e. string).\n",
        "\n",
        "\n",
        "\n"
      ]
    },
    {
      "cell_type": "code",
      "metadata": {
        "id": "ou6NnOhKXxjP"
      },
      "source": [
        "def tokenize(input_str, vocab_file=None, vocab_dir=None):\n",
        "    \"\"\"Encodes a string to an array of integers\n",
        "\n",
        "    Args:\n",
        "        input_str (str): human-readable string to encode\n",
        "        vocab_file (str): filename of the vocabulary text file\n",
        "        vocab_dir (str): path to the vocabulary file\n",
        "  \n",
        "    Returns:\n",
        "        numpy.ndarray: tokenized version of the input string\n",
        "    \"\"\"\n",
        "    \n",
        "    # Set the encoding of the \"end of sentence\" as 1\n",
        "    EOS = 1\n",
        "    \n",
        "    # Use the trax.data.tokenize method. It takes streams and returns streams,\n",
        "    # we get around it by making a 1-element stream with `iter`.\n",
        "    inputs =  next(trax.data.tokenize(iter([input_str]),\n",
        "                                      vocab_file=vocab_file, vocab_dir=vocab_dir))\n",
        "    \n",
        "    # Mark the end of the sentence with EOS\n",
        "    inputs = list(inputs) + [EOS]\n",
        "    \n",
        "    # Adding the batch dimension to the front of the shape\n",
        "    batch_inputs = np.reshape(np.array(inputs), [1, -1])\n",
        "    \n",
        "    return batch_inputs\n",
        "\n",
        "\n",
        "def detokenize(integers, vocab_file=None, vocab_dir=None):\n",
        "    \"\"\"Decodes an array of integers to a human readable string\n",
        "\n",
        "    Args:\n",
        "        integers (numpy.ndarray): array of integers to decode\n",
        "        vocab_file (str): filename of the vocabulary text file\n",
        "        vocab_dir (str): path to the vocabulary file\n",
        "  \n",
        "    Returns:\n",
        "        str: the decoded sentence.\n",
        "    \"\"\"\n",
        "    \n",
        "    # Remove the dimensions of size 1\n",
        "    integers = list(np.squeeze(integers))\n",
        "    \n",
        "    # Set the encoding of the \"end of sentence\" as 1\n",
        "    EOS = 1\n",
        "    \n",
        "    # Remove the EOS to decode only the original tokens\n",
        "    if EOS in integers:\n",
        "        integers = integers[:integers.index(EOS)] \n",
        "    \n",
        "    return trax.data.detokenize(integers, vocab_file=vocab_file, vocab_dir=vocab_dir)"
      ],
      "execution_count": null,
      "outputs": []
    },
    {
      "cell_type": "code",
      "metadata": {
        "id": "VLxYhconYkz3",
        "outputId": "9ab70154-e7f4-414c-9b36-a386b742a59d",
        "colab": {
          "base_uri": "https://localhost:8080/",
          "height": 134
        }
      },
      "source": [
        "# Detokenize an input-target pair of tokenized sentences\n",
        "print(colored(f'Single detokenized example input:', 'red'), detokenize(train_input, vocab_file=VOCAB_FILE, vocab_dir=VOCAB_DIR))\n",
        "print(colored(f'Single detokenized example target:', 'red'), detokenize(train_target, vocab_file=VOCAB_FILE, vocab_dir=VOCAB_DIR))\n",
        "print()\n",
        "\n",
        "# Tokenize and detokenize a word that is not explicitly saved in the vocabulary file\n",
        "# See how it combines the subwords -- 'hell' and 'o'-- to form the word 'hello'\n",
        "print(colored(f\"tokenize('hello'): \", 'green'), tokenize('hello', vocab_file=VOCAB_FILE, vocab_dir=VOCAB_DIR))\n",
        "print(colored(f\"detokenize([17332, 140, 1]): \", 'green'), detokenize([17332, 140, 1], vocab_file=VOCAB_FILE, vocab_dir=VOCAB_DIR))"
      ],
      "execution_count": null,
      "outputs": [
        {
          "output_type": "stream",
          "text": [
            "\u001b[31mSingle detokenized example input:\u001b[0m Tel: +421 2 57 103 777\n",
            "\n",
            "\u001b[31mSingle detokenized example target:\u001b[0m Tel: +421 2 57 103 777\n",
            "\n",
            "\n",
            "\u001b[32mtokenize('hello'): \u001b[0m [[17332   140     1]]\n",
            "\u001b[32mdetokenize([17332, 140, 1]): \u001b[0m hello\n"
          ],
          "name": "stdout"
        }
      ]
    },
    {
      "cell_type": "markdown",
      "metadata": {
        "id": "jp-vbpP53okz"
      },
      "source": [
        "<a name=\"1.3\"></a>\n",
        "## 1.3 Bucketing"
      ]
    },
    {
      "cell_type": "markdown",
      "metadata": {
        "id": "oY-kwIzzkGMv"
      },
      "source": [
        "Bucketing the tokenized sentences is an important technique used to speed up training in NLP. The gist is very simple: our inputs have variable lengths and we want to make these the same when batching groups of sentences together. One way to do that is to pad each sentence to the length of the longest sentence in the dataset. \n",
        "\n",
        "We batch the sentences with similar length together and only add minimal padding to make them have equal length (usually up to the nearest power of two). This allows to waste less computation when processing padded sequences. "
      ]
    },
    {
      "cell_type": "code",
      "metadata": {
        "id": "ywLJYyOMYvt_"
      },
      "source": [
        "# Bucketing to create streams of batches.\n",
        "\n",
        "# Buckets are defined in terms of boundaries and batch sizes.\n",
        "# Batch_sizes[i] determines the batch size for items with length < boundaries[i]\n",
        "# So below, we will take a batch of 256 sentences of length < 8, 128 if length is\n",
        "# between 8 and 16, and so on -- and only 2 if length is over 512.\n",
        "boundaries =  [8,   16,  32, 64, 128, 256, 512]\n",
        "batch_sizes = [256, 128, 64, 32, 16,    8,   4,  2]\n",
        "\n",
        "# We create the generators\n",
        "train_batch_stream = trax.data.BucketByLength(\n",
        "    boundaries, batch_sizes,\n",
        "    length_keys=[0, 1]  \n",
        ")(filtered_train_stream)\n",
        "\n",
        "eval_batch_stream = trax.data.BucketByLength(\n",
        "    boundaries, batch_sizes,\n",
        "    length_keys=[0, 1]  \n",
        ")(filtered_eval_stream)\n",
        "\n",
        "# Add masking for the padding (0s).  #[0] en, [1] de, [2] padding mask\n",
        "train_batch_stream = trax.data.AddLossWeights(id_to_mask=0)(train_batch_stream)\n",
        "eval_batch_stream = trax.data.AddLossWeights(id_to_mask=0)(eval_batch_stream)"
      ],
      "execution_count": null,
      "outputs": []
    },
    {
      "cell_type": "markdown",
      "metadata": {
        "id": "tpbqoXsq3pYa"
      },
      "source": [
        "<a name=\"1.4\"></a>\n",
        "## 1.4 Exploring the data"
      ]
    },
    {
      "cell_type": "markdown",
      "metadata": {
        "id": "N2k8o4IYkc4e"
      },
      "source": [
        "First, we get the data generator and get one batch of the data."
      ]
    },
    {
      "cell_type": "code",
      "metadata": {
        "id": "c_sk22YpZZ6z",
        "outputId": "b2f1d8fc-d659-493d-edb6-d11c9f0bc048",
        "colab": {
          "base_uri": "https://localhost:8080/",
          "height": 84
        }
      },
      "source": [
        "input_batch, target_batch, mask_batch = next(train_batch_stream)\n",
        "\n",
        "# Print data type\n",
        "print(\"input_batch data type: \", type(input_batch))\n",
        "print(\"target_batch data type: \", type(target_batch))\n",
        "\n",
        "# Print the shape\n",
        "print(\"input_batch shape: \", input_batch.shape)\n",
        "print(\"target_batch shape: \", target_batch.shape)"
      ],
      "execution_count": null,
      "outputs": [
        {
          "output_type": "stream",
          "text": [
            "input_batch data type:  <class 'numpy.ndarray'>\n",
            "target_batch data type:  <class 'numpy.ndarray'>\n",
            "input_batch shape:  (32, 64)\n",
            "target_batch shape:  (32, 64)\n"
          ],
          "name": "stdout"
        }
      ]
    },
    {
      "cell_type": "markdown",
      "metadata": {
        "id": "ca2zZ7KhZeQ9"
      },
      "source": [
        "We can now visually inspect some of the data. You can run the cell below several times to shuffle through the sentences. Just to note, while this is a standard data set that is used widely, it does have some known wrong translations."
      ]
    },
    {
      "cell_type": "code",
      "metadata": {
        "id": "WG7uYkSKZeYE",
        "outputId": "ddcef2b2-b5c3-4a92-d9fe-ea024f5367bf",
        "colab": {
          "base_uri": "https://localhost:8080/",
          "height": 420
        }
      },
      "source": [
        "# Pick a random index less than the batch size.\n",
        "index = random.randrange(len(input_batch))\n",
        "\n",
        "# Use the index to grab an entry from the input and target batch\n",
        "print(colored('THIS IS THE ENGLISH SENTENCE: \\n', 'red'), detokenize(input_batch[index], vocab_file=VOCAB_FILE, vocab_dir=VOCAB_DIR), '\\n')\n",
        "print(colored('THIS IS THE TOKENIZED VERSION OF THE ENGLISH SENTENCE: \\n ', 'red'), input_batch[index], '\\n')\n",
        "print(colored('THIS IS THE GERMAN TRANSLATION: \\n', 'red'), detokenize(target_batch[index], vocab_file=VOCAB_FILE, vocab_dir=VOCAB_DIR), '\\n')\n",
        "print(colored('THIS IS THE TOKENIZED VERSION OF THE GERMAN TRANSLATION: \\n', 'red'), target_batch[index], '\\n')"
      ],
      "execution_count": null,
      "outputs": [
        {
          "output_type": "stream",
          "text": [
            "\u001b[31mTHIS IS THE ENGLISH SENTENCE: \n",
            "\u001b[0m DATE OF FIRST AUTHORISATION/RENEWAL OF THE AUTHORISATION\n",
            " \n",
            "\n",
            "\u001b[31mTHIS IS THE TOKENIZED VERSION OF THE ENGLISH SENTENCE: \n",
            " \u001b[0m [14344   493 11544  9868 18207   693  9227  7933 10547  3337  4205 10617\n",
            "   123  3234  4017 13986  1047 11544  4327  9227  7933 10547  3337  4205\n",
            " 10617 30650  4729   992     1     0     0     0     0     0     0     0\n",
            "     0     0     0     0     0     0     0     0     0     0     0     0\n",
            "     0     0     0     0     0     0     0     0     0     0     0     0\n",
            "     0     0     0     0] \n",
            "\n",
            "\u001b[31mTHIS IS THE GERMAN TRANSLATION: \n",
            "\u001b[0m DATUM DER ERTEILUNG DER ERSTZULASSUNG / VERLÄNGERUNG DER ZULASSUNG\n",
            " \n",
            "\n",
            "\u001b[31mTHIS IS THE TOKENIZED VERSION OF THE GERMAN TRANSLATION: \n",
            "\u001b[0m [14344 11459     5  9192  6304  6999  8001 18044  9192  6304 14075  1834\n",
            " 25057  8066  8462 11553  1962 10468  2474  3449  9797  6304 18044  9192\n",
            "  1834 25057  8066  8462 11553 30650  4729   992     1     0     0     0\n",
            "     0     0     0     0     0     0     0     0     0     0     0     0\n",
            "     0     0     0     0     0     0     0     0     0     0     0     0\n",
            "     0     0     0     0] \n",
            "\n"
          ],
          "name": "stdout"
        }
      ]
    },
    {
      "cell_type": "markdown",
      "metadata": {
        "id": "IAjTpR8Lj6Ob"
      },
      "source": [
        "Now that our data is preprocessed, we will build our model."
      ]
    },
    {
      "cell_type": "markdown",
      "metadata": {
        "id": "NWPyZBY24JfZ"
      },
      "source": [
        "<a name=\"2\"></a>\n",
        "# 2. Neural Machine Translation with Attention"
      ]
    },
    {
      "cell_type": "markdown",
      "metadata": {
        "id": "A0l0Gih9kulY"
      },
      "source": [
        "The model we will be building uses an encoder-decoder architecture. This Recurrent Neural Network (RNN) will take in a tokenized version of a sentence in its encoder, then passes it on to the decoder for translation. Just using a regular sequence-to-sequence model with LSTMs will work effectively for short to medium sentences but will start to degrade for longer ones. Adding an attention mechanism to this model avoids this problem by giving the decoder a way to learn where to focus its attention on the input sequence, as each word of the output sequence is decoded.\n",
        "\n",
        "In this section, we will first introduce the Encoder-Decoder architecture. Then, we will describe how an attention mechanism works. Finally,  we will implement a model using Encoder-Decoder architecture with attention."
      ]
    },
    {
      "cell_type": "markdown",
      "metadata": {
        "id": "f7XQM8GLr2wz"
      },
      "source": [
        "<a name=\"2.1\"></a>\n",
        "## 2.1 Encoder-Decoder architecture"
      ]
    },
    {
      "cell_type": "markdown",
      "metadata": {
        "id": "2TaQXMPesUyB"
      },
      "source": [
        "The Encoder–Decoder architecture idea is simple: the encoder neural network reads and encodes a source sentence into a fixed length vector, then the decoder outputs the translation from the encoded vector. The whole encoder-decoder network is jointly trained to maximize the probability of a correct translation given a source sentence."
      ]
    },
    {
      "cell_type": "markdown",
      "metadata": {
        "id": "XhcUjJQzsj4V"
      },
      "source": [
        "![image.png](data:image/png;base64,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)"
      ]
    },
    {
      "cell_type": "markdown",
      "metadata": {
        "id": "QZGAAItpl6P_"
      },
      "source": [
        "<a name=\"2.2\"></a>\n",
        "## 2.2 Attention mechanism"
      ]
    },
    {
      "cell_type": "markdown",
      "metadata": {
        "id": "QhFMgoLtZy6K"
      },
      "source": [
        "Now, let's see how attention works. To illustrate, we will just use a 4-word input sentence as shown below. Remember that a hidden state is produced at each timestep of the encoder (represented by the orange rectangles). These are all passed to the attention layer and each are given a score given the current activation (i.e. hidden state) of the decoder. "
      ]
    },
    {
      "cell_type": "markdown",
      "metadata": {
        "id": "1pGvAf4MlILf"
      },
      "source": [
        "![image.png](data:image/png;base64,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)"
      ]
    },
    {
      "cell_type": "markdown",
      "metadata": {
        "id": "wDmqx6NTlLT7"
      },
      "source": [
        "For instance, consider the figure above where the first prediction “Wie” is already made. To produce the next prediction, the attention layer will first receive all the encoder hidden states (i.e. orange rectangles) as well as the decoder hidden state when producing the word “Wie” (i.e. first green rectangle). Given this information, it will score each of the encoder hidden states to know which one the decoder should focus on to produce the next word. The result of the model training might have learned that it should align to the second encoder hidden state and subsequently assigns a high probability to the word “geht”. If we are using a greedy algorithm for decoding, we will output the said word as the next symbol, then restart the process to produce the next word until we reach an end-of-sentence prediction.\n",
        "\n",
        "There are different ways to score the encoder hidden states, but the one we will use here is the scaled dot product attention:\n",
        "\n",
        "$$Attention(Q, K, V) = softmax(\\frac{Q\\cdot K^T}{\\sqrt{d_k}})V$$\n",
        "\n",
        "For our machine translation application, the encoder activations (i.e. encoder hidden states) will be the keys (K) and values (V), while the decoder activations (i.e. decoder hidden states) will be the queries (Q). Dont forget that Q, K and V are matrices.\n",
        "\n",
        "You can think of it as computing the scores using the dot product between the queries and keys matrices, which measures their similarity. Then softmaxing after dividing by the square root of the keys dimensionality ($\\sqrt{d_k}$). And finally, computing the dot product between this and the values, to get the attention vector at a particular timestep of the decoder.\n",
        "\n",
        "You can read more about attention in the original “[Attention is all you need](http://papers.nips.cc/paper/7181-attention-is-all-you-need.pdf)” paper."
      ]
    },
    {
      "cell_type": "markdown",
      "metadata": {
        "id": "NUnqQpxI4rVG"
      },
      "source": [
        "<a name=\"2.3\"></a>\n",
        "## 2.3 Main parts of our model"
      ]
    },
    {
      "cell_type": "markdown",
      "metadata": {
        "id": "pujVuZ57cr6k"
      },
      "source": [
        "In this section we will define the main parts of our model. We will implement the input encoder, the pre-attention decoder, the decoder and a preparation function for the attention layer that we will describe later."
      ]
    },
    {
      "cell_type": "markdown",
      "metadata": {
        "id": "nHlbOD-zbTNE"
      },
      "source": [
        "<a name=\"2.3.1\"></a>\n",
        "### 2.3.1 Encoder"
      ]
    },
    {
      "cell_type": "markdown",
      "metadata": {
        "id": "Blm-KBwOv4Tr"
      },
      "source": [
        "The encoder has the tokenized sentences in the source language as input. It creates the word embedding, converts the one-hot encoded sentences into vectors of the embedding and then feeds the vectors into a LSTM network. This outputs the activations (hidden states) that will be the keys and values for attention."
      ]
    },
    {
      "cell_type": "code",
      "metadata": {
        "id": "uRGtA2VnZ2Rr"
      },
      "source": [
        "def input_encoder_fn(input_vocab_size, d_model, n_encoder_layers):\n",
        "    \"\"\" Input encoder runs on the input sentence and creates\n",
        "    activations that will be the keys and values for attention.\n",
        "    \n",
        "    Args:\n",
        "        input_vocab_size: int: vocab size of the input\n",
        "        d_model: int:  depth of embedding (n_units in the LSTM cell)\n",
        "        n_encoder_layers: int: number of LSTM layers in the encoder\n",
        "    Returns:\n",
        "        tl.Serial: The input encoder\n",
        "    \"\"\"\n",
        "    \n",
        "    # We create a serial network\n",
        "    input_encoder = tl.Serial( \n",
        "        \n",
        "        # We create an embedding layer to convert tokens to vectors\n",
        "        tl.Embedding(input_vocab_size, d_model),\n",
        "        \n",
        "        # We feed the embedded vectors to the stack of LSTMs\n",
        "        [tl.LSTM(d_model) for _ in range(n_encoder_layers)]\n",
        "    )\n",
        "\n",
        "    return input_encoder"
      ],
      "execution_count": null,
      "outputs": []
    },
    {
      "cell_type": "markdown",
      "metadata": {
        "id": "hWTYp_EtbaHt"
      },
      "source": [
        "<a name=\"2.3.2\"></a>\n",
        "### 2.3.2 Pre-attention Decoder"
      ]
    },
    {
      "cell_type": "markdown",
      "metadata": {
        "id": "Jz1zTVu8yaKy"
      },
      "source": [
        "The pre-attention decoder is responsible of feeding the queries to the attention layer. It has the tokenized sentences in the target language as input. It creates the word embedding, converts the one-hot encoded sentences into vectors of the embedding and then feeds the vectors into a LSTM network. "
      ]
    },
    {
      "cell_type": "markdown",
      "metadata": {
        "id": "hKNmeKHw4tky"
      },
      "source": [
        "Teacher forcing is a strategy for training RNNs quicker and more efficiently. It is described in [A Learning Algorithm for Continually Running Fully Recurrent Neural Networks](http://ieeexplore.ieee.org/document/6795228/) in the following manner.\n",
        "\n",
        "> An interesting technique that is frequently used in dynamical supervised learning tasks is to replace the actual output y(t) of a unit by the teacher signal d(t) in subsequent computation of the behavior of the network, whenever such a value exists. We call this technique teacher forcing.\n",
        "\n",
        "Essentially, teacher forcing works by using the actual output from the training dataset at the current timestep t as input in the next timestep rather than the output generated by the network. In our model, instead of feeding the attention layer with the prediction from the decoder, we feed it with the ground truth translation.\n",
        "\n",
        "As we want to implement teacher forcing training, we have to add a ShiftRight layer to the pre-attention decoder."
      ]
    },
    {
      "cell_type": "code",
      "metadata": {
        "id": "7YgI1J4BbJAS"
      },
      "source": [
        "def pre_attention_decoder_fn(mode, target_vocab_size, d_model):\n",
        "    \"\"\" Pre-attention decoder runs on the targets and creates\n",
        "    activations that are used as queries in attention.\n",
        "    \n",
        "    Args:\n",
        "        mode: str: 'train' or 'eval'\n",
        "        target_vocab_size: int: vocab size of the target\n",
        "        d_model: int:  depth of embedding (n_units in the LSTM cell)\n",
        "    Returns:\n",
        "        tl.Serial: The pre-attention decoder\n",
        "    \"\"\"\n",
        "    \n",
        "    # We create a serial network\n",
        "    pre_attention_decoder = tl.Serial(\n",
        "        \n",
        "        # We shift right in order to implement teacher forcing\n",
        "        tl.ShiftRight(),\n",
        "\n",
        "        # We run an embedding layer to convert tokens into vectors\n",
        "        tl.Embedding(target_vocab_size, d_model),\n",
        "\n",
        "        # We feed to an LSTM layer\n",
        "        tl.LSTM(d_model)\n",
        "    )\n",
        "    \n",
        "    return pre_attention_decoder"
      ],
      "execution_count": null,
      "outputs": []
    },
    {
      "cell_type": "markdown",
      "metadata": {
        "id": "wuX-DDzLv05F"
      },
      "source": [
        "<a name=\"2.3.3\"></a>\n",
        "### 2.3.3 Decoder"
      ]
    },
    {
      "cell_type": "markdown",
      "metadata": {
        "id": "n9_sH-eC6kPQ"
      },
      "source": [
        "The decoder architecture is straightforward. It receives the attentionQKV layer activations as input, which contain the fixed length vector and the attention information. It consists in just a stack of multiple LSTM layers."
      ]
    },
    {
      "cell_type": "code",
      "metadata": {
        "id": "AtVp3zh-6kkq"
      },
      "source": [
        "def decoder_fn(d_model, n_decoder_layers):\n",
        "    \"\"\" Decoder runs on the attentionQKV activations\n",
        "    \n",
        "    Args:\n",
        "        d_model: int:  depth of embedding (n_units in the LSTM cell)\n",
        "        n_decoder_layers: int: number of LSTM layers in the encoder\n",
        "    Returns:\n",
        "        tl.Serial: The decoder\n",
        "    \"\"\"\n",
        "    \n",
        "    # We create a serial network\n",
        "    decoder = tl.Serial( \n",
        "             \n",
        "        # We feed the attentionQKV activations to the stack of LSTMs\n",
        "        [tl.LSTM(d_model) for _ in range(n_decoder_layers)]\n",
        "    )\n",
        "\n",
        "    return decoder"
      ],
      "execution_count": null,
      "outputs": []
    },
    {
      "cell_type": "markdown",
      "metadata": {
        "id": "bt7vcI19bhOq"
      },
      "source": [
        "<a name=\"2.3.4\"></a>\n",
        "### 2.3.4 Preparation function for the attention layer\n"
      ]
    },
    {
      "cell_type": "markdown",
      "metadata": {
        "id": "WKY32q1ewKEs"
      },
      "source": [
        "This function will be preparing the inputs to the attention layer. It will take in the encoder and pre-attention decoder hidden states and assign them to the queries, keys and values. In addition, it will add a mask to distinguish real tokens from padding tokens. This mask is used internally by Trax when cumputing softmax so padding tokens will not affect the computed probabilities."
      ]
    },
    {
      "cell_type": "code",
      "metadata": {
        "id": "unH0bDyUbNvc"
      },
      "source": [
        "def prepare_attention_input(encoder_activations, decoder_activations, inputs):\n",
        "    \"\"\"Prepare queries, keys, values and mask for attention.\n",
        "    \n",
        "    Args:\n",
        "        encoder_activations fastnp.array(batch_size, padded_input_length, d_model): output from the input encoder\n",
        "        decoder_activations fastnp.array(batch_size, padded_input_length, d_model): output from the pre-attention decoder\n",
        "        inputs fastnp.array(batch_size, padded_input_length): padded input tokens\n",
        "    \n",
        "    Returns:\n",
        "        queries, keys, values and mask for attention.\n",
        "    \"\"\"\n",
        "    \n",
        "    # We set the keys and values to the encoder activations (encoder hidden states)\n",
        "    keys = encoder_activations\n",
        "    values = encoder_activations\n",
        "    \n",
        "    # We set the queries to the decoder activations (pre-att decoder hidden states)\n",
        "    queries = decoder_activations\n",
        "    \n",
        "    # We generate the mask to distinguish real tokens from padding\n",
        "    mask = inputs > 0\n",
        "   \n",
        "    # We add axes to the mask for attention heads and decoder length\n",
        "    mask = fastnp.reshape(mask, (mask.shape[0], 1, 1, mask.shape[1]))\n",
        "    \n",
        "    # Broadcast so mask shape is [batch size, attention heads, decoder-len, encoder-len].\n",
        "    mask = mask + fastnp.zeros((1, 1, decoder_activations.shape[1], 1))\n",
        "    \n",
        "    return queries, keys, values, mask"
      ],
      "execution_count": null,
      "outputs": []
    },
    {
      "cell_type": "markdown",
      "metadata": {
        "id": "ViswUi-K4reL"
      },
      "source": [
        "<a name=\"2.4\"></a>\n",
        "## 2.4 The model implementation"
      ]
    },
    {
      "cell_type": "markdown",
      "metadata": {
        "id": "Msi3sfiw9nsw"
      },
      "source": [
        "We are going to implement the following model."
      ]
    },
    {
      "cell_type": "markdown",
      "metadata": {
        "id": "zCVk66pIZ22x"
      },
      "source": [
        "![image.png](data:image/png;base64,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)"
      ]
    },
    {
      "cell_type": "markdown",
      "metadata": {
        "id": "-p03a5su9pt6"
      },
      "source": [
        "Although it seems a bit complicated, the implementation is quite straightforward if we follow the steps in the figure and we use the functions that we have previously created. "
      ]
    },
    {
      "cell_type": "code",
      "metadata": {
        "id": "MMy4r4Yebxkn"
      },
      "source": [
        "def NMTAttn(input_vocab_size=33300,\n",
        "            target_vocab_size=33300,\n",
        "            d_model=1024,\n",
        "            n_encoder_layers=2,\n",
        "            n_decoder_layers=2,\n",
        "            n_attention_heads=4,\n",
        "            attention_dropout=0.0,\n",
        "            mode='train'):\n",
        "    \"\"\"Returns an LSTM sequence-to-sequence model with attention.\n",
        "\n",
        "    The input to the model is a pair (input tokens, target tokens).\n",
        "    E.g., a tokenized English sentence and its tokenized translation into German.\n",
        "\n",
        "    Args:\n",
        "    input_vocab_size: int: vocab size of the input\n",
        "    target_vocab_size: int: vocab size of the target\n",
        "    d_model: int:  depth of embedding (n_units in the LSTM cell)\n",
        "    n_encoder_layers: int: number of LSTM layers in the encoder\n",
        "    n_decoder_layers: int: number of LSTM layers in the decoder after attention\n",
        "    n_attention_heads: int: number of attention heads\n",
        "    attention_dropout: float, dropout for the attention layer\n",
        "    mode: str: 'train', 'eval' or 'predict', predict mode is for fast inference\n",
        "\n",
        "    Returns:\n",
        "    A LSTM sequence-to-sequence model with attention.\n",
        "    \"\"\"\n",
        "   \n",
        "    # Step 0: We create the encoder\n",
        "    input_encoder =  input_encoder_fn(input_vocab_size, d_model, n_encoder_layers)\n",
        "\n",
        "    # Step 0: We create the pre-attention decoder\n",
        "    pre_attention_decoder = pre_attention_decoder_fn(mode, target_vocab_size, d_model)\n",
        "\n",
        "    # Step 0: We create the decoder\n",
        "    decoder = decoder_fn(d_model, n_decoder_layers)\n",
        "\n",
        "    # Step 1: Now, we create a serial model\n",
        "    model = tl.Serial(       \n",
        "      # Step 2: First, we copy input tokens and target tokens as they will be needed later\n",
        "      tl.Select([0, 1, 0, 1]),\n",
        "        \n",
        "      # Step 3: Then, run encoder on the input tokens and pre-attention decoder on the target tokens using a Parallel layer\n",
        "      tl.Parallel(input_encoder, pre_attention_decoder),\n",
        "        \n",
        "      # Step 4: At this point we have the encoder hidden states and the pre_attention_decoder hidden states,\n",
        "      # we pass them into the preparation function in order to prepare queries, keys, values and mask for attention.\n",
        "      tl.Fn('PrepareAttentionInput', prepare_attention_input, n_out=4),\n",
        "        \n",
        "      # Step 5: Now, we run the AttentionQKV layer.\n",
        "      # We nest it inside a Residual layer to add to the attention layer output the pre-attention decoder activations (queries)\n",
        "      # that will be used for teacher forcing\n",
        "      tl.Residual(tl.AttentionQKV(d_model, n_heads=n_attention_heads, dropout=attention_dropout, mode=mode)),\n",
        "      \n",
        "      # Step 6: We drop attention mask (index 1)\n",
        "      tl.Select([0, 2]),\n",
        "        \n",
        "      # Step 7: We pass the attention layer output and the queries into our decoder\n",
        "      decoder,\n",
        "        \n",
        "      # Step 8: Then, we prepare the output by making it the right size with a dense layer\n",
        "      tl.Dense(target_vocab_size),\n",
        "        \n",
        "      # Step 9: Finally, we Log-softmax te result\n",
        "      tl.LogSoftmax()\n",
        "    )\n",
        "        \n",
        "    return model"
      ],
      "execution_count": null,
      "outputs": []
    },
    {
      "cell_type": "code",
      "metadata": {
        "id": "KBnQVzJDb1iP",
        "outputId": "1f796fe8-f003-4c9e-c292-ec0d8a12674c",
        "colab": {
          "base_uri": "https://localhost:8080/",
          "height": 790
        }
      },
      "source": [
        "# We display our model architecture\n",
        "model = NMTAttn()\n",
        "print(model)"
      ],
      "execution_count": null,
      "outputs": [
        {
          "output_type": "stream",
          "text": [
            "Serial_in2_out2[\n",
            "  Select[0,1,0,1]_in2_out4\n",
            "  Parallel_in2_out2[\n",
            "    Serial[\n",
            "      Embedding_33300_1024\n",
            "      LSTM_1024\n",
            "      LSTM_1024\n",
            "    ]\n",
            "    Serial[\n",
            "      Serial[\n",
            "        AssertShape\n",
            "        ShiftRight(1)\n",
            "        AssertShape\n",
            "      ]\n",
            "      Embedding_33300_1024\n",
            "      LSTM_1024\n",
            "    ]\n",
            "  ]\n",
            "  PrepareAttentionInput_in3_out4\n",
            "  Serial_in4_out2[\n",
            "    Branch_in4_out3[\n",
            "      None\n",
            "      Serial_in4_out2[\n",
            "        AssertShape_in4_out4\n",
            "        Serial_in4_out2[\n",
            "          Parallel_in3_out3[\n",
            "            Dense_1024\n",
            "            Dense_1024\n",
            "            Dense_1024\n",
            "          ]\n",
            "          PureAttention_in4_out2\n",
            "          Dense_1024\n",
            "        ]\n",
            "        AssertShape_in2_out2\n",
            "      ]\n",
            "    ]\n",
            "    Add_in2\n",
            "  ]\n",
            "  Select[0,2]_in3_out2\n",
            "  Serial[\n",
            "    LSTM_1024\n",
            "    LSTM_1024\n",
            "  ]\n",
            "  Dense_33300\n",
            "  LogSoftmax\n",
            "]\n"
          ],
          "name": "stdout"
        }
      ]
    },
    {
      "cell_type": "markdown",
      "metadata": {
        "id": "YPao7CP84M4N"
      },
      "source": [
        "<a name=\"3\"></a>\n",
        "# 3. Training"
      ]
    },
    {
      "cell_type": "markdown",
      "metadata": {
        "id": "99s30or6-29z"
      },
      "source": [
        "Now, we will train our model in Trax. To do that, we have to instatiate three classes: TrainTask, EvalTask and Loop."
      ]
    },
    {
      "cell_type": "markdown",
      "metadata": {
        "id": "IItsFbwBdN8T"
      },
      "source": [
        "<a name=\"3.1\"></a>\n",
        "## 3.1 Train task"
      ]
    },
    {
      "cell_type": "markdown",
      "metadata": {
        "id": "V1uwlgCs_EKO"
      },
      "source": [
        "The TrainTask class in Trax allows us to define the labeled data we are going to use for training and the mechanisms to compute the loss and update the weights. In our case, we are going to use cross entropy loss and Adam optimizer with a learning rate 0.01. We will also add a decay to the learning rate and save a checkpoint every 10 steps."
      ]
    },
    {
      "cell_type": "code",
      "metadata": {
        "id": "q9Uf45zSdDBo"
      },
      "source": [
        "train_task = training.TrainTask(    \n",
        "    labeled_data= train_batch_stream,    \n",
        "    loss_layer= tl.CrossEntropyLoss(),    \n",
        "    optimizer= trax.optimizers.Adam(0.01),    \n",
        "    lr_schedule= trax.lr.warmup_and_rsqrt_decay(n_warmup_steps = 1000, max_value = 0.01),    \n",
        "    n_steps_per_checkpoint= 10,\n",
        ")"
      ],
      "execution_count": null,
      "outputs": []
    },
    {
      "cell_type": "markdown",
      "metadata": {
        "id": "sQWKwbZCdCdJ"
      },
      "source": [
        "<a name=\"3.2\"></a>\n",
        "## 3.2 Evaluation task"
      ]
    },
    {
      "cell_type": "markdown",
      "metadata": {
        "id": "kUUQVRbXA3fd"
      },
      "source": [
        "The EvalTask class in Trax is used to track how well the model is doing while training. In our case, we want it to report the cross entropy loss and accuracy."
      ]
    },
    {
      "cell_type": "code",
      "metadata": {
        "id": "_Ao9K6k3dWPj"
      },
      "source": [
        "eval_task = training.EvalTask(    \n",
        "    # We tell Trax what data we will use for evaluation\n",
        "    labeled_data=eval_batch_stream,    \n",
        "    metrics=[tl.CrossEntropyLoss(), tl.Accuracy()],\n",
        ")"
      ],
      "execution_count": null,
      "outputs": []
    },
    {
      "cell_type": "markdown",
      "metadata": {
        "id": "QSBpeCFldUR5"
      },
      "source": [
        "<a name=\"3.3\"></a>\n",
        "## 3.3 Loop"
      ]
    },
    {
      "cell_type": "markdown",
      "metadata": {
        "id": "moBnZADGA_o5"
      },
      "source": [
        "The Loop class defines the model we will train as well as the train and eval tasks to execute. Its `run()` method allows us to execute the training for a specified number of steps."
      ]
    },
    {
      "cell_type": "code",
      "metadata": {
        "id": "qe8v3fE7dbt0"
      },
      "source": [
        "# We define the output directory\n",
        "output_dir = '/content/output_dir'\n",
        "\n",
        "# Remove pre-existing saved models\n",
        "!rm -f ~/output_dir/model.pkl.gz  \n",
        "\n",
        "# We define the training loop\n",
        "training_loop = training.Loop(NMTAttn(mode='train'),\n",
        "                              train_task,\n",
        "                              eval_tasks=[eval_task],\n",
        "                              output_dir=output_dir)"
      ],
      "execution_count": null,
      "outputs": []
    },
    {
      "cell_type": "markdown",
      "metadata": {
        "id": "thbEBwxNe9zR"
      },
      "source": [
        "<a name=\"3.4\"></a>\n",
        "## 3.4 Start training\n"
      ]
    },
    {
      "cell_type": "markdown",
      "metadata": {
        "id": "zqr8bZMBBHtr"
      },
      "source": [
        "Execute the training loop. It takes around 10 minutes to complete the 100 epochs."
      ]
    },
    {
      "cell_type": "code",
      "metadata": {
        "id": "5ydbq2t_fKB1",
        "outputId": "1df82728-f457-4995-c515-5b6bacd02649",
        "colab": {
          "base_uri": "https://localhost:8080/",
          "height": 958
        }
      },
      "source": [
        "training_loop.run(100)"
      ],
      "execution_count": null,
      "outputs": [
        {
          "output_type": "stream",
          "text": [
            "\n",
            "Step      1: Total number of trainable weights: 148492820\n",
            "Step      1: Ran 1 train steps in 81.29 secs\n",
            "Step      1: train CrossEntropyLoss |  10.40654182\n",
            "Step      1: eval  CrossEntropyLoss |  10.39884377\n",
            "Step      1: eval          Accuracy |  0.00000000\n",
            "\n",
            "Step     10: Ran 9 train steps in 97.14 secs\n",
            "Step     10: train CrossEntropyLoss |  10.23781872\n",
            "Step     10: eval  CrossEntropyLoss |  10.01589489\n",
            "Step     10: eval          Accuracy |  0.01420679\n",
            "\n",
            "Step     20: Ran 10 train steps in 74.99 secs\n",
            "Step     20: train CrossEntropyLoss |  9.43671703\n",
            "Step     20: eval  CrossEntropyLoss |  8.58469677\n",
            "Step     20: eval          Accuracy |  0.04581245\n",
            "\n",
            "Step     30: Ran 10 train steps in 80.40 secs\n",
            "Step     30: train CrossEntropyLoss |  7.94441175\n",
            "Step     30: eval  CrossEntropyLoss |  7.40538931\n",
            "Step     30: eval          Accuracy |  0.02601626\n",
            "\n",
            "Step     40: Ran 10 train steps in 73.49 secs\n",
            "Step     40: train CrossEntropyLoss |  7.25300598\n",
            "Step     40: eval  CrossEntropyLoss |  7.68096161\n",
            "Step     40: eval          Accuracy |  0.01505174\n",
            "\n",
            "Step     50: Ran 10 train steps in 74.01 secs\n",
            "Step     50: train CrossEntropyLoss |  7.02850485\n",
            "Step     50: eval  CrossEntropyLoss |  7.56820440\n",
            "Step     50: eval          Accuracy |  0.02433628\n",
            "\n",
            "Step     60: Ran 10 train steps in 82.32 secs\n",
            "Step     60: train CrossEntropyLoss |  7.33376551\n",
            "Step     60: eval  CrossEntropyLoss |  6.36419821\n",
            "Step     60: eval          Accuracy |  0.02764666\n",
            "\n",
            "Step     70: Ran 10 train steps in 76.59 secs\n",
            "Step     70: train CrossEntropyLoss |  7.27299118\n",
            "Step     70: eval  CrossEntropyLoss |  7.17433119\n",
            "Step     70: eval          Accuracy |  0.04336043\n",
            "\n",
            "Step     80: Ran 10 train steps in 74.54 secs\n",
            "Step     80: train CrossEntropyLoss |  7.07343054\n",
            "Step     80: eval  CrossEntropyLoss |  7.41713047\n",
            "Step     80: eval          Accuracy |  0.02507837\n",
            "\n",
            "Step     90: Ran 10 train steps in 74.67 secs\n",
            "Step     90: train CrossEntropyLoss |  7.30706930\n",
            "Step     90: eval  CrossEntropyLoss |  7.79156399\n",
            "Step     90: eval          Accuracy |  0.03194579\n",
            "\n",
            "Step    100: Ran 10 train steps in 74.24 secs\n",
            "Step    100: train CrossEntropyLoss |  7.40014887\n",
            "Step    100: eval  CrossEntropyLoss |  7.11469507\n",
            "Step    100: eval          Accuracy |  0.04576503\n"
          ],
          "name": "stdout"
        }
      ]
    },
    {
      "cell_type": "markdown",
      "metadata": {
        "id": "kDKGVE3aKI5g"
      },
      "source": [
        "<a name=\"3.5\"></a>\n",
        "## 3.5 Load pretrained weights"
      ]
    },
    {
      "cell_type": "markdown",
      "metadata": {
        "id": "RaR2-w3BLJ0d"
      },
      "source": [
        "We will now load pretrained weights for the model we just built. This weights were obtained by training this model for several days."
      ]
    },
    {
      "cell_type": "code",
      "metadata": {
        "id": "XJ85SlUUKINH"
      },
      "source": [
        "# Instantiate the model we built in eval mode in order to make tests later\n",
        "model = NMTAttn(mode='eval')\n",
        "\n",
        "# Initialize weights from a pre-trained model\n",
        "WEIGHTS_DIR = '/content/drive/My Drive/Proyectos/Project: English-German Translator/'\n",
        "WEIGHTS_FILE = os.path.join(WEIGHTS_DIR,'model.pkl.gz')\n",
        "\n",
        "model.init_from_file(WEIGHTS_FILE, weights_only=True)\n",
        "model = tl.Accelerate(model)"
      ],
      "execution_count": null,
      "outputs": []
    },
    {
      "cell_type": "markdown",
      "metadata": {
        "id": "wN2L9wO24Nyy"
      },
      "source": [
        "<a name=\"4\"></a>\n",
        "# 4. Testing"
      ]
    },
    {
      "cell_type": "markdown",
      "metadata": {
        "id": "-kdbKHl9QJUq"
      },
      "source": [
        "<a name=\"4.1\"></a>\n",
        "## 4.1 Decoding"
      ]
    },
    {
      "cell_type": "markdown",
      "metadata": {
        "id": "wakxwOe2fZDG"
      },
      "source": [
        "We will now be using the model we just built to translate English sentences to German. We will implement this with two functions: \n",
        "\n",
        "*   The first one allows us to identify the next symbol (i.e. output token), given a tokenized representation of an sentence (in English) and a tokenized representation of translated words (in German). \n",
        "*   The second one takes care of combining the entire translated string. This function calls the next symbol function several times until the nexxt output is the EoS token. It takes in an input string and returns the translated vversion of that string."
      ]
    },
    {
      "cell_type": "code",
      "metadata": {
        "id": "mSWFkRrsgDDX"
      },
      "source": [
        "def next_symbol(NMTAttn, input_tokens, cur_output_tokens, temperature):\n",
        "    \"\"\"Returns the index of the next token.\n",
        "\n",
        "    Args:\n",
        "        NMTAttn (tl.Serial): An LSTM sequence-to-sequence model with attention.\n",
        "        input_tokens (np.ndarray 1 x n_tokens): tokenized representation of the input sentence\n",
        "        cur_output_tokens (list): tokenized representation of previously translated words\n",
        "        temperature (float): parameter for sampling ranging from 0.0 to 1.0.\n",
        "            0.0: same as argmax, always pick the most probable token\n",
        "            1.0: sampling from the distribution (can sometimes say random things)\n",
        "\n",
        "    Returns:\n",
        "        int: index of the next token in the translated sentence\n",
        "        float: log-probability of the next symbol\n",
        "    \"\"\"\n",
        "\n",
        "    # Set the length of the current output tokens\n",
        "    token_length = len(cur_output_tokens)\n",
        "    \n",
        "    # Calculate next power of 2 for padding length \n",
        "    padded_length = int(2**np.ceil(np.log2(token_length + 1)))\n",
        "    \n",
        "    # Pad cur_output_tokens up to the padded_length\n",
        "    padded = cur_output_tokens + [0] * int(padded_length - token_length)\n",
        "\n",
        "    # Do not forget that model expects the output to have an axis for the batch size in front so\n",
        "    # convert padded list to a numpy array with shape (<batch_size>, <padded_length>)\n",
        "    padded_with_batch = np.expand_dims(np.array(padded), axis=0) \n",
        "    \n",
        "    # Now, we get the prediction\n",
        "    output, _ = NMTAttn((input_tokens, padded_with_batch))\n",
        "        \n",
        "    # From the output we get the log probabilities from the last token output\n",
        "    log_probs = output[0, token_length, :]\n",
        "\n",
        "    # We get select the next symbol index by using the logsoftmax sample function, which has a temperature parameter\n",
        "    symbol = int(tl.logsoftmax_sample(log_probs, temperature=temperature))\n",
        "\n",
        "    return symbol, float(log_probs[symbol])"
      ],
      "execution_count": null,
      "outputs": []
    },
    {
      "cell_type": "code",
      "metadata": {
        "id": "BTFCf0w4gVA3"
      },
      "source": [
        "def sampling_decode(input_sentence, NMTAttn = None, temperature=0.0, vocab_file=None, vocab_dir=None):\n",
        "    \"\"\"Returns the translated sentence.\n",
        "\n",
        "    Args:\n",
        "        input_sentence (str): sentence to translate.\n",
        "        NMTAttn (tl.Serial): An LSTM sequence-to-sequence model with attention.\n",
        "        temperature (float): parameter for sampling ranging from 0.0 to 1.0.\n",
        "            0.0: same as argmax, always pick the most probable token\n",
        "            1.0: sampling from the distribution (can sometimes say random things)\n",
        "        vocab_file (str): filename of the vocabulary\n",
        "        vocab_dir (str): path to the vocabulary file\n",
        "\n",
        "    Returns:\n",
        "        tuple: (list, str, float)\n",
        "            list of int: tokenized version of the translated sentence\n",
        "            float: log probability of the translated sentence\n",
        "            str: the translated sentence\n",
        "    \"\"\"\n",
        "    # Set te EOS token\n",
        "    EOS = 1\n",
        "    \n",
        "    # Tokenize the input sentence\n",
        "    input_tokens = tokenize(input_sentence, vocab_file, vocab_dir)\n",
        "    \n",
        "    # Initialize the list of current output tokens\n",
        "    cur_output_tokens = []\n",
        "    \n",
        "    # Initialize the total sentence log-prob\n",
        "    total_log_prob = 0\n",
        "\n",
        "    # Initialize the current output index\n",
        "    cur_output = 0\n",
        "    \n",
        "    # Now, we check that the current output is not the EOS token\n",
        "    while cur_output != EOS:\n",
        "        \n",
        "        # We use next symbol to update the current output token. We also save the log_prob\n",
        "        cur_output, log_prob = next_symbol(NMTAttn, input_tokens, cur_output_tokens, temperature) \n",
        "        \n",
        "        # We Sum the log_prob to the total_log_prob\n",
        "        total_log_prob += log_prob\n",
        "\n",
        "        # We append the current output token to the list of output tokens\n",
        "        cur_output_tokens.append(cur_output)\n",
        "    \n",
        "    # Finally, we detokenize the output tokens\n",
        "    sentence = detokenize(cur_output_tokens, vocab_file, vocab_dir)\n",
        "    \n",
        "    return cur_output_tokens, total_log_prob, sentence"
      ],
      "execution_count": null,
      "outputs": []
    },
    {
      "cell_type": "code",
      "metadata": {
        "id": "CcrBV21ZgYkX",
        "outputId": "83c3bcf1-de9a-460d-f25b-bb93019762e1",
        "colab": {
          "base_uri": "https://localhost:8080/",
          "height": 34
        }
      },
      "source": [
        "# Try our code\n",
        "sampling_decode(\"I love languages\", model, temperature=0.2, vocab_file=VOCAB_FILE, vocab_dir=VOCAB_DIR)"
      ],
      "execution_count": null,
      "outputs": [
        {
          "output_type": "execute_result",
          "data": {
            "text/plain": [
              "([161, 12202, 5112, 1], -1.480926513671875, 'Ich liebe Sprachen')"
            ]
          },
          "metadata": {
            "tags": []
          },
          "execution_count": 115
        }
      ]
    },
    {
      "cell_type": "markdown",
      "metadata": {
        "id": "JvyYjoXb4N1v"
      },
      "source": [
        "<a name=\"4.2\"></a>\n",
        "## 4.2 Greedy decoding"
      ]
    },
    {
      "cell_type": "markdown",
      "metadata": {
        "id": "zt_ayGX5g8Cd"
      },
      "source": [
        "In this subsection, we will implement decoding using a greedy algorith. This algorithm generates the translation by choosing the most probable word at each step. It gets the argmax of the output array of the model and then returns that index. We can implement it just by setting the temperature to 0 in our sampling_decode function.\n"
      ]
    },
    {
      "cell_type": "code",
      "metadata": {
        "id": "L2n_ha1fg3wT"
      },
      "source": [
        "def greedy_decode_test(sentence, NMTAttn=None, vocab_file=None, vocab_dir=None):\n",
        "    \"\"\"Prints the input and output of our NMTAttn model using greedy decoding\n",
        "\n",
        "    Args:\n",
        "        sentence (str): a custom string.\n",
        "        NMTAttn (tl.Serial): An LSTM sequence-to-sequence model with attention.\n",
        "        vocab_file (str): filename of the vocabulary\n",
        "        vocab_dir (str): path to the vocabulary file\n",
        "\n",
        "    Returns:\n",
        "        str: the translated sentence\n",
        "    \"\"\"\n",
        "  \n",
        "    _,_, translated_sentence = sampling_decode(sentence, NMTAttn, temperature=0.0, vocab_file=vocab_file, vocab_dir=vocab_dir)\n",
        "    \n",
        "    print(\"English: \", sentence)\n",
        "    print(\"German: \", translated_sentence)\n",
        "    \n",
        "    return translated_sentence"
      ],
      "execution_count": null,
      "outputs": []
    },
    {
      "cell_type": "code",
      "metadata": {
        "id": "_Ztle-hvg_Nv",
        "outputId": "9035a4e5-c7c4-4d72-f1a3-1242f88fdff6",
        "colab": {
          "base_uri": "https://localhost:8080/",
          "height": 50
        }
      },
      "source": [
        "# Write a custom sentence\n",
        "your_sentence = 'I love languages'\n",
        "\n",
        "greedy_decode_test(your_sentence, model, vocab_file=VOCAB_FILE, vocab_dir=VOCAB_DIR);"
      ],
      "execution_count": null,
      "outputs": [
        {
          "output_type": "stream",
          "text": [
            "English:  I love languages\n",
            "German:  Ich liebe Sprachen\n"
          ],
          "name": "stdout"
        }
      ]
    },
    {
      "cell_type": "markdown",
      "metadata": {
        "id": "YMUERDIJNlvH"
      },
      "source": [
        "<a name=\"4.3\"></a>\n",
        "## 4.3 Minimum Bayes-risk decoding"
      ]
    },
    {
      "cell_type": "markdown",
      "metadata": {
        "id": "EC3ihA7k4kHw"
      },
      "source": [
        "In general, getting the most probable token at each step may not necessarily produce the best translation. Another approach is to use the Minimum Bayes-risk decoding (MBR) algorithm. The general steps to implement this are:\n",
        "\n",
        "1. Take several random translations.\n",
        "2. Score each sample against all other samples using a similarity function.\n",
        "3. Select the translation with the highest score.\n",
        "\n",
        "So now we are building three functions:\n",
        "*   The first one will be generating the samples.\n",
        "*   The second one will be our similarity function. We will use the classical IOU.\n",
        "*   The third one will be our score function, which will be the weighted average overlap.\n",
        "\n",
        "\n",
        "\n"
      ]
    },
    {
      "cell_type": "markdown",
      "metadata": {
        "id": "8QXwdA2OY6UG"
      },
      "source": [
        "### Generating samples"
      ]
    },
    {
      "cell_type": "markdown",
      "metadata": {
        "id": "MVKuCvUzZVgX"
      },
      "source": [
        "First, we will use the sampling_decode() function with temperature greater than zero to build a function that generates different translations for a given sentence. This function will receive the sentence in English, the number of samples, the model, the temperature and the subwords and will return the token list and the log-probability for each generated translation. "
      ]
    },
    {
      "cell_type": "code",
      "metadata": {
        "id": "GqYykUkgNlHO"
      },
      "source": [
        "def generate_samples(sentence, n_samples, NMTAttn=None, temperature=0.6, vocab_file=None, vocab_dir=None):\n",
        "    \"\"\"Generates samples using sampling_decode()\n",
        "\n",
        "    Args:\n",
        "        sentence (str): sentence to translate.\n",
        "        n_samples (int): number of samples to generate\n",
        "        NMTAttn (tl.Serial): An LSTM sequence-to-sequence model with attention.\n",
        "        temperature (float): parameter for sampling ranging from 0.0 to 1.0.\n",
        "            0.0: same as argmax, always pick the most probable token\n",
        "            1.0: sampling from the distribution (can sometimes say random things)\n",
        "        vocab_file (str): filename of the vocabulary\n",
        "        vocab_dir (str): path to the vocabulary file\n",
        "        \n",
        "    Returns:\n",
        "        tuple: (list, list)\n",
        "            list of lists: token list per sample\n",
        "            list of floats: log probability per sample\n",
        "    \"\"\"\n",
        "    # Initilize the lists for samples and probabilities\n",
        "    samples, log_probs = [], []\n",
        "\n",
        "    # We are going to generate n samples\n",
        "    for _ in range(n_samples):\n",
        "        \n",
        "        # Now, we obtain a translation using sampling_decode() function\n",
        "        sample, logp, _ = sampling_decode(sentence, NMTAttn, temperature, vocab_file=vocab_file, vocab_dir=vocab_dir)\n",
        "        \n",
        "        # We append the translation to the samples list\n",
        "        samples.append(sample)\n",
        "        \n",
        "        # We append log-probability of the translation to the log_probs list\n",
        "        log_probs.append(logp)\n",
        "                \n",
        "    return samples, log_probs"
      ],
      "execution_count": null,
      "outputs": []
    },
    {
      "cell_type": "code",
      "metadata": {
        "id": "labJe-WvZuwK",
        "outputId": "faf44854-9be5-4eb5-a0e9-875a91d3ab79",
        "colab": {
          "base_uri": "https://localhost:8080/",
          "height": 151
        }
      },
      "source": [
        "# Generate 4 translations with the default temperature (0.6)\n",
        "generate_samples('I love languages.', 4, model, vocab_file=VOCAB_FILE, vocab_dir=VOCAB_DIR)"
      ],
      "execution_count": null,
      "outputs": [
        {
          "output_type": "execute_result",
          "data": {
            "text/plain": [
              "([[161, 12202, 10, 4516, 3, 1],\n",
              "  [161, 12202, 5112, 3, 1],\n",
              "  [161, 12202, 5112, 3, 1],\n",
              "  [161, 12202, 10, 5112, 3, 1]],\n",
              " [-4.119601249694824,\n",
              "  -1.056497573852539,\n",
              "  -1.0564966201782227,\n",
              "  -2.0202178955078125])"
            ]
          },
          "metadata": {
            "tags": []
          },
          "execution_count": 119
        }
      ]
    },
    {
      "cell_type": "markdown",
      "metadata": {
        "id": "yi12Gl_1Y8pd"
      },
      "source": [
        "### Similarity function (Intersection over union)"
      ]
    },
    {
      "cell_type": "markdown",
      "metadata": {
        "id": "SOV9EkDuaz5u"
      },
      "source": [
        "Second, we define the function we will use to compare a sample against others: the similarity function. There are several metrics we can use here, however one of the most popular is the Jaccard similarity or intersection over union (IOU). Another metric we could use here is [ROUGE](https://arxiv.org/pdf/1803.01937.pdf). "
      ]
    },
    {
      "cell_type": "code",
      "metadata": {
        "id": "LBTT5ytaY_er"
      },
      "source": [
        "def jaccard_similarity(candidate, reference):\n",
        "    \"\"\"Returns the Jaccard similarity between two token lists\n",
        "\n",
        "    Args:\n",
        "        candidate (list of int): tokenized version of the candidate translation\n",
        "        reference (list of int): tokenized version of the reference translation\n",
        "\n",
        "    Returns:\n",
        "        float: overlap between the two token lists\n",
        "    \"\"\"\n",
        "    \n",
        "    # First, convert the lists to a set to get the unique tokens\n",
        "    can_unigram_set, ref_unigram_set = set(candidate), set(reference)  \n",
        "    \n",
        "    # Now, we take the intersection \n",
        "    joint_elems = can_unigram_set.intersection(ref_unigram_set)\n",
        "    \n",
        "    # And the union \n",
        "    all_elems = can_unigram_set.union(ref_unigram_set)\n",
        "    \n",
        "    # Finally, we divide the number of elements in the intersection between the number  of elements  in the union\n",
        "    overlap = len(joint_elems) / len(all_elems)\n",
        "    \n",
        "    return overlap"
      ],
      "execution_count": null,
      "outputs": []
    },
    {
      "cell_type": "markdown",
      "metadata": {
        "id": "4SLDrwAVZCeG"
      },
      "source": [
        "### Score function"
      ]
    },
    {
      "cell_type": "markdown",
      "metadata": {
        "id": "GXFChV8scMFY"
      },
      "source": [
        "Third, we will build a function to generate the overall score for a particular sample. We need to compare each sample with all other samples. For instance, if we generated 30 sentences, we will need to compare sentence 1 to sentences 2 to 30. Then, we compare sentence 2 to sentences 1 and 3 to 30, and so forth. At each step, we get the average score of all comparisons to get the overall score for a particular sample. To illustrate, these will be the steps to generate the scores of a 4-sample list.\n",
        "\n",
        "1. Get similarity score between sample 1 and sample 2\n",
        "2. Get similarity score between sample 1 and sample 3\n",
        "3. Get similarity score between sample 1 and sample 4\n",
        "4. Get the weighted average score of the first 3 steps. This will be the overall score of sample 1.\n",
        "5. Iterate and repeat until samples 1 to 4 have overall scores.\n",
        "\n",
        "We will be storing the results in a dictionary for easy lookups.\n"
      ]
    },
    {
      "cell_type": "code",
      "metadata": {
        "id": "UaaW-Re8ZEcz"
      },
      "source": [
        "def weighted_avg_overlap(similarity_fn, samples, log_probs):\n",
        "    \"\"\"Returns the weighted mean of each candidate sentence in the samples\n",
        "\n",
        "    Args:\n",
        "        samples (list of lists): tokenized version of the translated sentences\n",
        "        log_probs (list of float): log probability of the translated sentences\n",
        "\n",
        "    Returns:\n",
        "        dict: scores of each sample\n",
        "            key: index of the sample\n",
        "            value: score of the sample\n",
        "    \"\"\"\n",
        "    \n",
        "    # Initialize the scores dictionary\n",
        "    scores = {}\n",
        "    \n",
        "    # We run a for loop for each sample\n",
        "    for index_candidate, candidate in enumerate(samples):    \n",
        "        \n",
        "        # Initialize overlap and weighted sum\n",
        "        overlap, weight_sum = 0.0, 0.0\n",
        "        \n",
        "        # Run a for loop for each sample\n",
        "        for index_sample, (sample, logp) in enumerate(zip(samples, log_probs)):\n",
        "\n",
        "            # We skip if the candidate index is the same as the sample index            \n",
        "            if index_candidate == index_sample:\n",
        "                continue\n",
        "                \n",
        "            # Now, we convert log-probs to probs\n",
        "            sample_p = float(np.exp(logp))\n",
        "\n",
        "            # We update the weighted sum\n",
        "            weight_sum += sample_p\n",
        "\n",
        "            # We get the unigram overlap between candidate and sample\n",
        "            sample_overlap = similarity_fn(candidate, sample)\n",
        "            \n",
        "            # We update the overlap\n",
        "            overlap += sample_p * sample_overlap\n",
        "            \n",
        "        # Get the score for the candidate\n",
        "        score = overlap / weight_sum\n",
        "        \n",
        "        # Finally, we save the score in the dictionary using the index as the key\n",
        "        scores[index_candidate] = score\n",
        "    \n",
        "    return scores"
      ],
      "execution_count": null,
      "outputs": []
    },
    {
      "cell_type": "markdown",
      "metadata": {
        "id": "RkOZBpF5cLaZ"
      },
      "source": [
        "### Putting all together"
      ]
    },
    {
      "cell_type": "markdown",
      "metadata": {
        "id": "YM6SPsCNcZbp"
      },
      "source": [
        "We will now put everything together and develop the `mbr_decode()` function. This function will generate the samples, get the score for each sample, get the highest score among all samples, then detokenize this sample to get the translated sentence. "
      ]
    },
    {
      "cell_type": "code",
      "metadata": {
        "id": "Uhe9FcJpcUJn"
      },
      "source": [
        "def mbr_decode(sentence, n_samples, score_fn, similarity_fn, NMTAttn=None, temperature=0.6, vocab_file=None, vocab_dir=None):\n",
        "    \"\"\"Returns the translated sentence using Minimum Bayes Risk decoding\n",
        "\n",
        "    Args:\n",
        "        sentence (str): sentence to translate.\n",
        "        n_samples (int): number of samples to generate\n",
        "        score_fn (function): function that generates the score for each sample\n",
        "        similarity_fn (function): function used to compute the overlap between a pair of samples\n",
        "        NMTAttn (tl.Serial): An LSTM sequence-to-sequence model with attention.\n",
        "        temperature (float): parameter for sampling ranging from 0.0 to 1.0.\n",
        "            0.0: same as argmax, always pick the most probable token\n",
        "            1.0: sampling from the distribution (can sometimes say random things)\n",
        "        vocab_file (str): filename of the vocabulary\n",
        "        vocab_dir (str): path to the vocabulary file\n",
        "\n",
        "    Returns:\n",
        "        str: the translated sentence\n",
        "    \"\"\"\n",
        "\n",
        "    # First, we generate the translations\n",
        "    samples, log_probs = generate_samples(sentence, n_samples, NMTAttn, temperature, vocab_file, vocab_dir)\n",
        "    \n",
        "    # Then, we use the score function go get a dictionary of scores. \n",
        "    # We have to pass the similarity function into the score function\n",
        "    scores = score_fn(similarity_fn, samples, log_probs)\n",
        "    \n",
        "    # Find the translation with the highest score, i.e., the dictionary key with the highest value\n",
        "    max_index = max(scores, key = scores.get)\n",
        "    \n",
        "    # Finally, we detokenize the token list associated with the max_index\n",
        "    translated_sentence = detokenize(samples[max_index], vocab_file, vocab_dir)\n",
        "    \n",
        "    return (translated_sentence, max_index, scores)"
      ],
      "execution_count": null,
      "outputs": []
    },
    {
      "cell_type": "code",
      "metadata": {
        "id": "KRvzF5d2cfNM",
        "outputId": "f753f2dc-dc9d-4f6d-ae71-94a94a4db4ac",
        "colab": {
          "base_uri": "https://localhost:8080/",
          "height": 35
        }
      },
      "source": [
        "# Set the temperature parameter\n",
        "TEMPERATURE = 0.4\n",
        "\n",
        "# Put a custom string here\n",
        "sentence = 'She speaks English and German.'\n",
        "\n",
        "# Use the minimun Bayes-risk function to translate our sentence\n",
        "mbr_decode(sentence, 4, weighted_avg_overlap, jaccard_similarity, model, TEMPERATURE, vocab_file=VOCAB_FILE, vocab_dir=VOCAB_DIR)[0]"
      ],
      "execution_count": null,
      "outputs": [
        {
          "output_type": "execute_result",
          "data": {
            "application/vnd.google.colaboratory.intrinsic+json": {
              "type": "string"
            },
            "text/plain": [
              "'Sie spricht Englisch und Deutsch.'"
            ]
          },
          "metadata": {
            "tags": []
          },
          "execution_count": 123
        }
      ]
    }
  ]
}